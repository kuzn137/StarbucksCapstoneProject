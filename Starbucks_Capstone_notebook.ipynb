{
 "cells": [
  {
   "cell_type": "markdown",
   "metadata": {},
   "source": [
    "# Starbucks Capstone Challenge\n",
    "\n",
    "### Introduction\n",
    "\n",
    "This data set contains simulated data that mimics customer behavior on the Starbucks rewards mobile app. Once every few days, Starbucks sends out an offer to users of the mobile app. An offer can be merely an advertisement for a drink or an actual offer such as a discount or BOGO (buy one get one free). Some users might not receive any offer during certain weeks. \n",
    "\n",
    "Not all users receive the same offer, and that is the challenge to solve with this data set.\n",
    "\n",
    "Your task is to combine transaction, demographic and offer data to determine which demographic groups respond best to which offer type. This data set is a simplified version of the real Starbucks app because the underlying simulator only has one product whereas Starbucks actually sells dozens of products.\n",
    "\n",
    "Every offer has a validity period before the offer expires. As an example, a BOGO offer might be valid for only 5 days. You'll see in the data set that informational offers have a validity period even though these ads are merely providing information about a product; for example, if an informational offer has 7 days of validity, you can assume the customer is feeling the influence of the offer for 7 days after receiving the advertisement.\n",
    "\n",
    "You'll be given transactional data showing user purchases made on the app including the timestamp of purchase and the amount of money spent on a purchase. This transactional data also has a record for each offer that a user receives as well as a record for when a user actually views the offer. There are also records for when a user completes an offer. \n",
    "\n",
    "Keep in mind as well that someone using the app might make a purchase through the app without having received an offer or seen an offer.\n",
    "\n",
    "### Example\n",
    "\n",
    "To give an example, a user could receive a discount offer buy 10 dollars get 2 off on Monday. The offer is valid for 10 days from receipt. If the customer accumulates at least 10 dollars in purchases during the validity period, the customer completes the offer.\n",
    "\n",
    "However, there are a few things to watch out for in this data set. Customers do not opt into the offers that they receive; in other words, a user can receive an offer, never actually view the offer, and still complete the offer. For example, a user might receive the \"buy 10 dollars get 2 dollars off offer\", but the user never opens the offer during the 10 day validity period. The customer spends 15 dollars during those ten days. There will be an offer completion record in the data set; however, the customer was not influenced by the offer because the customer never viewed the offer.\n",
    "\n",
    "### Cleaning\n",
    "\n",
    "This makes data cleaning especially important and tricky.\n",
    "\n",
    "You'll also want to take into account that some demographic groups will make purchases even if they don't receive an offer. From a business perspective, if a customer is going to make a 10 dollar purchase without an offer anyway, you wouldn't want to send a buy 10 dollars get 2 dollars off offer. You'll want to try to assess what a certain demographic group will buy when not receiving any offers.\n",
    "\n",
    "### Final Advice\n",
    "\n",
    "Because this is a capstone project, you are free to analyze the data any way you see fit. For example, you could build a machine learning model that predicts how much someone will spend based on demographics and offer type. Or you could build a model that predicts whether or not someone will respond to an offer. Or, you don't need to build a machine learning model at all. You could develop a set of heuristics that determine what offer you should send to each customer (i.e., 75 percent of women customers who were 35 years old responded to offer A vs 40 percent from the same demographic to offer B, so send offer A)."
   ]
  },
  {
   "cell_type": "markdown",
   "metadata": {},
   "source": [
    "\n",
    "# Data Sets\n",
    "\n",
    "The data is contained in three files:\n",
    "\n",
    "* portfolio.json - containing offer ids and meta data about each offer (duration, type, etc.)\n",
    "* profile.json - demographic data for each customer\n",
    "* transcript.json - records for transactions, offers received, offers viewed, and offers completed\n",
    "\n",
    "Here is the schema and explanation of each variable in the files:\n",
    "\n",
    "**portfolio.json**\n",
    "* id (string) - offer id\n",
    "* offer_type (string) - type of offer ie BOGO, discount, informational\n",
    "* difficulty (int) - minimum required spend to complete an offer\n",
    "* reward (int) - reward given for completing an offer\n",
    "* duration (int) - time for offer to be open, in days\n",
    "* channels (list of strings)\n",
    "\n",
    "**profile.json**\n",
    "* age (int) - age of the customer \n",
    "* became_member_on (int) - date when customer created an app account\n",
    "* gender (str) - gender of the customer (note some entries contain 'O' for other rather than M or F)\n",
    "* id (str) - customer id\n",
    "* income (float) - customer's income\n",
    "\n",
    "**transcript.json**\n",
    "* event (str) - record description (ie transaction, offer received, offer viewed, etc.)\n",
    "* person (str) - customer id\n",
    "* time (int) - time in hours since start of test. The data begins at time t=0\n",
    "* value - (dict of strings) - either an offer id or transaction amount depending on the record\n",
    "\n"
   ]
  },
  {
   "cell_type": "markdown",
   "metadata": {},
   "source": [
    "The goal of described model is to predict for bogo and discount types of offers if offer will be completed after it was viewed by customer using customer and offer information provided in dataset. In Features Engineering we explore offers and customer predictors to use in the model. As model RandomForest Classifier is used to classify if customer will complete offer. ROC Area Under the Curve is used for scoring as very suitable metrics for binary classification. As Model refinement the Light Gradient Boosting is used, it slightly improves results."
   ]
  },
  {
   "cell_type": "code",
   "execution_count": 20,
   "metadata": {},
   "outputs": [],
   "source": [
    "import pandas as pd\n",
    "import numpy as np\n",
    "import math\n",
    "import json\n",
    "import matplotlib.pyplot as plt\n",
    "import seaborn as sns\n",
    "from sklearn.model_selection import train_test_split\n",
    "#% matplotlib inline\n",
    "from sklearn.ensemble import RandomForestClassifier\n",
    "from sklearn.preprocessing import LabelEncoder\n",
    "from sklearn.linear_model import LinearRegression\n",
    "from sklearn.metrics import roc_auc_score, accuracy_score, f1_score\n",
    "from sklearn.model_selection import cross_validate\n",
    "import lightgbm as lgb\n",
    "\n",
    "# read in the json files\n",
    "portfolio = pd.read_json('portfolio.json', orient='records', lines=True)\n",
    "profile = pd.read_json('profile.json', orient='records', lines=True)\n",
    "transcript = pd.read_json('transcript.json', orient='records', lines=True)"
   ]
  },
  {
   "cell_type": "code",
   "execution_count": 21,
   "metadata": {},
   "outputs": [],
   "source": [
    "#functions\n",
    "\n",
    "def modeling(model, X, Y):\n",
    "    '''\n",
    "    return and plot test and mean cross validation scores and plot features importance\n",
    "    input: model, predictors dataframe, outcome\n",
    "    output: test and mean cross validation scores and plot features importance \n",
    "    '''\n",
    "    X_train, X_test, y_train, y_test = train_test_split(X, Y)\n",
    "    model.fit(X_train, y_train)\n",
    "    y_pred=model.predict_proba(X_test)[:,1]\n",
    "    score_test = roc_auc_score(y_test, y_pred)\n",
    "    #score_test_f1 = f1_score(y_test, y_pred)\n",
    "    print(\"auc test score\")\n",
    "    print(score_test)\n",
    "    plot_features(X, model)\n",
    "    \n",
    "    score_validation = cross_validate(model, X_train, y_train, cv=3, scoring='roc_auc')\n",
    "    print(\"cross_validation\")\n",
    "    print(np.mean(score_validation[\"test_score\"]))\n",
    "    return score_test, score_validation\n",
    "    \n",
    "    \n",
    "def plot_features(X, model):\n",
    "    '''\n",
    "    plot random forest features importance\n",
    "    input: dataframe X and regression model\n",
    "    output: Feature importance plot\n",
    "    '''\n",
    "    print(\"Plot feature importances…\")\n",
    "    headers = [\"name\", \"score\"]\n",
    "    values = sorted(zip(X.columns, model.feature_importances_), key=lambda x: x[1] * -1)\n",
    "    forest_feature_importances = pd.DataFrame(values, columns = headers)\n",
    "    forest_feature_importances = forest_feature_importances.sort_values(by = ['score'], ascending = False)\n",
    "    features = forest_feature_importances['name'][:25]\n",
    "    y_pos = np.arange(len(features))\n",
    "    scores = forest_feature_importances['score'][:25]\n",
    "    #plot feature importances\n",
    "    plt.figure(figsize=(10,5))\n",
    "    plt.bar(y_pos, scores, align='center', alpha=0.5)\n",
    "    plt.xticks(y_pos, features, rotation='vertical')\n",
    "    plt.ylabel('Score')\n",
    "    plt.xlabel('Features')\n",
    "    plt.title('Feature importances ')\n",
    "    plt.show()"
   ]
  },
  {
   "cell_type": "markdown",
   "metadata": {},
   "source": [
    "## Portfolio dataset\n",
    "\n",
    "Dataset includes features which describe offer. Here we also separate channels: wed, social, mobile, email to separate columns and check which was used, and count how many channels total are used for each offer."
   ]
  },
  {
   "cell_type": "code",
   "execution_count": 22,
   "metadata": {},
   "outputs": [
    {
     "name": "stdout",
     "output_type": "stream",
     "text": [
      "   reward                      channels  difficulty  duration     offer_type  \\\n",
      "0      10       [email, mobile, social]          10         7           bogo   \n",
      "1      10  [web, email, mobile, social]          10         5           bogo   \n",
      "2       0          [web, email, mobile]           0         4  informational   \n",
      "3       5          [web, email, mobile]           5         7           bogo   \n",
      "4       5                  [web, email]          20        10       discount   \n",
      "\n",
      "                                 id  \n",
      "0  ae264e3637204a6fb9bb56bc8210ddfd  \n",
      "1  4d5c57ea9a6940dd891ad53e9dbe8da0  \n",
      "2  3f207df678b143eea3cee63160fa8bed  \n",
      "3  9b98b8c7a33c4b65b9aebfe6a799e6d9  \n",
      "4  0b1e1539f2cc45b7b9fa7c272da2e1d7  \n",
      "Types of offer:\n"
     ]
    },
    {
     "data": {
      "text/plain": [
       "<bound method NDFrame.head of    reward  difficulty  duration     offer_type  \\\n",
       "0      10          10         7           bogo   \n",
       "1      10          10         5           bogo   \n",
       "2       0           0         4  informational   \n",
       "3       5           5         7           bogo   \n",
       "4       5          20        10       discount   \n",
       "5       3           7         7       discount   \n",
       "6       2          10        10       discount   \n",
       "7       0           0         3  informational   \n",
       "8       5           5         5           bogo   \n",
       "9       2          10         7       discount   \n",
       "\n",
       "                                 id  num_channels  web  email  mobile  social  \n",
       "0  ae264e3637204a6fb9bb56bc8210ddfd             3    0      1       1       1  \n",
       "1  4d5c57ea9a6940dd891ad53e9dbe8da0             4    1      1       1       1  \n",
       "2  3f207df678b143eea3cee63160fa8bed             3    1      1       1       0  \n",
       "3  9b98b8c7a33c4b65b9aebfe6a799e6d9             3    1      1       1       0  \n",
       "4  0b1e1539f2cc45b7b9fa7c272da2e1d7             2    1      1       0       0  \n",
       "5  2298d6c36e964ae4a3e7e9706d1fb8c2             4    1      1       1       1  \n",
       "6  fafdcd668e3743c1bb461111dcafc2a4             4    1      1       1       1  \n",
       "7  5a8bc65990b245e5a138643cd4eb9837             3    0      1       1       1  \n",
       "8  f19421c1d4aa40978ebb69ca19b0e20d             4    1      1       1       1  \n",
       "9  2906b810c7d4411798c6938adc9daaa5             3    1      1       1       0  >"
      ]
     },
     "execution_count": 22,
     "metadata": {},
     "output_type": "execute_result"
    }
   ],
   "source": [
    "print(portfolio.head())\n",
    "print(\"Types of offer:\")\n",
    "channels=[\"web\", \"email\", \"mobile\", \"social\"]\n",
    "portfolio[\"num_channels\"]=   portfolio[\"channels\"].apply(lambda x: len(x))\n",
    "#put channels to one string\n",
    "portfolio['channels']=portfolio['channels'].apply(lambda x: \"\".join(x))\n",
    "for i in channels: \n",
    "    portfolio[i] = 0\n",
    "    #check if string contains channel\n",
    "    portfolio.loc[portfolio['channels'].str.contains(i), [i]] = 1\n",
    "portfolio = portfolio.drop(\"channels\", axis=1)\n",
    "portfolio.head"
   ]
  },
  {
   "cell_type": "markdown",
   "metadata": {},
   "source": [
    "### Types of offers\n",
    "\n",
    "There are 3 types of offers "
   ]
  },
  {
   "cell_type": "code",
   "execution_count": 23,
   "metadata": {},
   "outputs": [
    {
     "name": "stdout",
     "output_type": "stream",
     "text": [
      "['bogo' 'informational' 'discount']\n"
     ]
    },
    {
     "data": {
      "text/plain": [
       "(array([4., 0., 0., 0., 0., 2., 0., 0., 0., 4.]),\n",
       " array([0. , 0.2, 0.4, 0.6, 0.8, 1. , 1.2, 1.4, 1.6, 1.8, 2. ]),\n",
       " <a list of 10 Patch objects>)"
      ]
     },
     "execution_count": 23,
     "metadata": {},
     "output_type": "execute_result"
    },
    {
     "data": {
      "image/png": "[encoded data removed]",
      "text/plain": [
       "<Figure size 432x288 with 1 Axes>"
      ]
     },
     "metadata": {
      "needs_background": "light"
     },
     "output_type": "display_data"
    }
   ],
   "source": [
    "print(portfolio.offer_type.unique())\n",
    "plt.hist(portfolio['offer_type'])"
   ]
  },
  {
   "cell_type": "markdown",
   "metadata": {},
   "source": [
    "### Difficulty score"
   ]
  },
  {
   "cell_type": "code",
   "execution_count": 24,
   "metadata": {},
   "outputs": [
    {
     "name": "stdout",
     "output_type": "stream",
     "text": [
      "[10  0  5 20  7]\n"
     ]
    },
    {
     "data": {
      "text/plain": [
       "(array([2., 0., 2., 1., 0., 4., 0., 0., 0., 1.]),\n",
       " array([ 0.,  2.,  4.,  6.,  8., 10., 12., 14., 16., 18., 20.]),\n",
       " <a list of 10 Patch objects>)"
      ]
     },
     "execution_count": 24,
     "metadata": {},
     "output_type": "execute_result"
    },
    {
     "data": {
      "image/png": "[encoded data removed]",
      "text/plain": [
       "<Figure size 432x288 with 1 Axes>"
      ]
     },
     "metadata": {
      "needs_background": "light"
     },
     "output_type": "display_data"
    }
   ],
   "source": [
    "print(portfolio.difficulty.unique())\n",
    "plt.hist(portfolio['difficulty'])"
   ]
  },
  {
   "cell_type": "markdown",
   "metadata": {},
   "source": [
    "### Rewards "
   ]
  },
  {
   "cell_type": "code",
   "execution_count": 25,
   "metadata": {},
   "outputs": [
    {
     "name": "stdout",
     "output_type": "stream",
     "text": [
      "[10  0  5  3  2]\n"
     ]
    },
    {
     "data": {
      "text/plain": [
       "(array([2., 0., 2., 1., 0., 3., 0., 0., 0., 2.]),\n",
       " array([ 0.,  1.,  2.,  3.,  4.,  5.,  6.,  7.,  8.,  9., 10.]),\n",
       " <a list of 10 Patch objects>)"
      ]
     },
     "execution_count": 25,
     "metadata": {},
     "output_type": "execute_result"
    },
    {
     "data": {
      "image/png": "[encoded data removed]",
      "text/plain": [
       "<Figure size 432x288 with 1 Axes>"
      ]
     },
     "metadata": {
      "needs_background": "light"
     },
     "output_type": "display_data"
    }
   ],
   "source": [
    "print(portfolio.reward.unique())\n",
    "plt.hist(portfolio['reward'])"
   ]
  },
  {
   "cell_type": "markdown",
   "metadata": {},
   "source": [
    "One can see that rewards correspond to difficulty"
   ]
  },
  {
   "cell_type": "markdown",
   "metadata": {},
   "source": [
    "## Profile"
   ]
  },
  {
   "cell_type": "code",
   "execution_count": 26,
   "metadata": {
    "scrolled": false
   },
   "outputs": [
    {
     "name": "stdout",
     "output_type": "stream",
     "text": [
      "  gender  age                            person  became_member_on  \\\n",
      "0   None  118  68be06ca386d4c31939f3a4f0e3dd783          20170212   \n",
      "1      F   55  0610b486422d4921ae7d2bf64640c50b          20170715   \n",
      "2   None  118  38fe809add3b4fcf9315a9694bb96ff5          20180712   \n",
      "3      F   75  78afa995795e4d85b5d9ceeca43f5fef          20170509   \n",
      "4   None  118  a03223e636434f42ac4c3df47e8bac43          20170804   \n",
      "\n",
      "          income  \n",
      "0   65404.991568  \n",
      "1  112000.000000  \n",
      "2   65404.991568  \n",
      "3  100000.000000  \n",
      "4   65404.991568  \n"
     ]
    }
   ],
   "source": [
    "profile=profile.rename(columns={\"id\": \"person\"})\n",
    "#fill income na with mean score\n",
    "mean_income = profile[\"income\"].mean()\n",
    "profile['income'] = profile['income'].fillna(mean_income)\n",
    "print(profile.head())"
   ]
  },
  {
   "cell_type": "code",
   "execution_count": 27,
   "metadata": {},
   "outputs": [],
   "source": [
    "##fil na for gender with \"O\", which means gender does not matter\n",
    "profile['gender']=profile['gender'].fillna(\"O\")"
   ]
  },
  {
   "cell_type": "markdown",
   "metadata": {},
   "source": [
    "## Transcript preprocessing"
   ]
  },
  {
   "cell_type": "code",
   "execution_count": 28,
   "metadata": {},
   "outputs": [
    {
     "name": "stdout",
     "output_type": "stream",
     "text": [
      "                             person           event  \\\n",
      "0  78afa995795e4d85b5d9ceeca43f5fef  offer received   \n",
      "1  a03223e636434f42ac4c3df47e8bac43  offer received   \n",
      "2  e2127556f4f64592b11af22de27a7932  offer received   \n",
      "3  8ec6ce2a7e7949b1bf142def7d0e0586  offer received   \n",
      "4  68617ca6246f4fbc85e91a2a49552598  offer received   \n",
      "\n",
      "                                              value  time  \n",
      "0  {'offer id': '9b98b8c7a33c4b65b9aebfe6a799e6d9'}     0  \n",
      "1  {'offer id': '0b1e1539f2cc45b7b9fa7c272da2e1d7'}     0  \n",
      "2  {'offer id': '2906b810c7d4411798c6938adc9daaa5'}     0  \n",
      "3  {'offer id': 'fafdcd668e3743c1bb461111dcafc2a4'}     0  \n",
      "4  {'offer id': '4d5c57ea9a6940dd891ad53e9dbe8da0'}     0  \n",
      "['offer received' 'offer viewed' 'transaction' 'offer completed']\n"
     ]
    }
   ],
   "source": [
    "print(transcript.head())\n",
    "print(transcript.event.unique())"
   ]
  },
  {
   "cell_type": "markdown",
   "metadata": {},
   "source": [
    "We do not know right away which order is completed. "
   ]
  },
  {
   "cell_type": "code",
   "execution_count": 29,
   "metadata": {},
   "outputs": [
    {
     "name": "stdout",
     "output_type": "stream",
     "text": [
      "                                 person            event  \\\n",
      "12658  9fa9ae8f57894cc9a3b8a9bbe0fc1b2f  offer completed   \n",
      "12672  fe97aa22dd3e48c8b143116a8403dd52  offer completed   \n",
      "12679  629fc02d56414d91bca360decdfa9288  offer completed   \n",
      "12692  676506bad68e4161b9bbaffeb039626b  offer completed   \n",
      "12697  8f7dd3b2afe14c078eb4f6e6fe4ba97d  offer completed   \n",
      "\n",
      "                                                   value  time  \n",
      "12658  {'offer_id': '2906b810c7d4411798c6938adc9daaa5...     0  \n",
      "12672  {'offer_id': 'fafdcd668e3743c1bb461111dcafc2a4...     0  \n",
      "12679  {'offer_id': '9b98b8c7a33c4b65b9aebfe6a799e6d9...     0  \n",
      "12692  {'offer_id': 'ae264e3637204a6fb9bb56bc8210ddfd...     0  \n",
      "12697  {'offer_id': '4d5c57ea9a6940dd891ad53e9dbe8da0...     0  \n"
     ]
    }
   ],
   "source": [
    "print(transcript[transcript['event']==\"offer completed\"].head())"
   ]
  },
  {
   "cell_type": "markdown",
   "metadata": {},
   "source": [
    "First we need to extract event from dictionary."
   ]
  },
  {
   "cell_type": "code",
   "execution_count": 30,
   "metadata": {
    "scrolled": true
   },
   "outputs": [
    {
     "name": "stdout",
     "output_type": "stream",
     "text": [
      "['offer received' 'offer viewed' 'transaction' 'offer completed']\n"
     ]
    },
    {
     "data": {
      "text/html": [
       "<div>\n",
       "<style scoped>\n",
       "    .dataframe tbody tr th:only-of-type {\n",
       "        vertical-align: middle;\n",
       "    }\n",
       "\n",
       "    .dataframe tbody tr th {\n",
       "        vertical-align: top;\n",
       "    }\n",
       "\n",
       "    .dataframe thead th {\n",
       "        text-align: right;\n",
       "    }\n",
       "</style>\n",
       "<table border=\"1\" class=\"dataframe\">\n",
       "  <thead>\n",
       "    <tr style=\"text-align: right;\">\n",
       "      <th></th>\n",
       "      <th>person</th>\n",
       "      <th>event</th>\n",
       "      <th>value</th>\n",
       "      <th>time</th>\n",
       "    </tr>\n",
       "  </thead>\n",
       "  <tbody>\n",
       "    <tr>\n",
       "      <th>0</th>\n",
       "      <td>78afa995795e4d85b5d9ceeca43f5fef</td>\n",
       "      <td>offer received</td>\n",
       "      <td>9b98b8c7a33c4b65b9aebfe6a799e6d9</td>\n",
       "      <td>0</td>\n",
       "    </tr>\n",
       "    <tr>\n",
       "      <th>1</th>\n",
       "      <td>a03223e636434f42ac4c3df47e8bac43</td>\n",
       "      <td>offer received</td>\n",
       "      <td>0b1e1539f2cc45b7b9fa7c272da2e1d7</td>\n",
       "      <td>0</td>\n",
       "    </tr>\n",
       "    <tr>\n",
       "      <th>2</th>\n",
       "      <td>e2127556f4f64592b11af22de27a7932</td>\n",
       "      <td>offer received</td>\n",
       "      <td>2906b810c7d4411798c6938adc9daaa5</td>\n",
       "      <td>0</td>\n",
       "    </tr>\n",
       "    <tr>\n",
       "      <th>3</th>\n",
       "      <td>8ec6ce2a7e7949b1bf142def7d0e0586</td>\n",
       "      <td>offer received</td>\n",
       "      <td>fafdcd668e3743c1bb461111dcafc2a4</td>\n",
       "      <td>0</td>\n",
       "    </tr>\n",
       "    <tr>\n",
       "      <th>4</th>\n",
       "      <td>68617ca6246f4fbc85e91a2a49552598</td>\n",
       "      <td>offer received</td>\n",
       "      <td>4d5c57ea9a6940dd891ad53e9dbe8da0</td>\n",
       "      <td>0</td>\n",
       "    </tr>\n",
       "  </tbody>\n",
       "</table>\n",
       "</div>"
      ],
      "text/plain": [
       "                             person           event  \\\n",
       "0  78afa995795e4d85b5d9ceeca43f5fef  offer received   \n",
       "1  a03223e636434f42ac4c3df47e8bac43  offer received   \n",
       "2  e2127556f4f64592b11af22de27a7932  offer received   \n",
       "3  8ec6ce2a7e7949b1bf142def7d0e0586  offer received   \n",
       "4  68617ca6246f4fbc85e91a2a49552598  offer received   \n",
       "\n",
       "                              value  time  \n",
       "0  9b98b8c7a33c4b65b9aebfe6a799e6d9     0  \n",
       "1  0b1e1539f2cc45b7b9fa7c272da2e1d7     0  \n",
       "2  2906b810c7d4411798c6938adc9daaa5     0  \n",
       "3  fafdcd668e3743c1bb461111dcafc2a4     0  \n",
       "4  4d5c57ea9a6940dd891ad53e9dbe8da0     0  "
      ]
     },
     "execution_count": 30,
     "metadata": {},
     "output_type": "execute_result"
    }
   ],
   "source": [
    "transcript['value']=transcript.value.apply(lambda x: x.get(\"offer id\"))\n",
    "print(transcript.event.unique())\n",
    "transcript.head()"
   ]
  },
  {
   "cell_type": "code",
   "execution_count": 31,
   "metadata": {},
   "outputs": [
    {
     "name": "stdout",
     "output_type": "stream",
     "text": [
      "                                 person            event value  time\n",
      "12658  9fa9ae8f57894cc9a3b8a9bbe0fc1b2f  offer completed  None     0\n",
      "12672  fe97aa22dd3e48c8b143116a8403dd52  offer completed  None     0\n",
      "12679  629fc02d56414d91bca360decdfa9288  offer completed  None     0\n",
      "12692  676506bad68e4161b9bbaffeb039626b  offer completed  None     0\n",
      "12697  8f7dd3b2afe14c078eb4f6e6fe4ba97d  offer completed  None     0\n"
     ]
    }
   ],
   "source": [
    "print(transcript[transcript['event']==\"offer completed\"].head())"
   ]
  },
  {
   "cell_type": "markdown",
   "metadata": {},
   "source": [
    "From table above we still do not know which offer is completed, value = None. To find out we need we need to sort out events by time for each customer. For Bogo and discount events offer completed follows transaction right away. We need also exclude events when offer was comleted by chance before it was viewed."
   ]
  },
  {
   "cell_type": "code",
   "execution_count": 32,
   "metadata": {},
   "outputs": [
    {
     "data": {
      "text/plain": [
       "array(['offer received', 'offer viewed', 'transaction', 'offer completed'],\n",
       "      dtype=object)"
      ]
     },
     "execution_count": 32,
     "metadata": {},
     "output_type": "execute_result"
    }
   ],
   "source": [
    "transcript = transcript.rename(columns={'value': 'id'})\n",
    "transcript.event.unique()"
   ]
  },
  {
   "cell_type": "markdown",
   "metadata": {},
   "source": [
    "We need to sort events in time for each person to find out which \"offer viewed\" is followed by \"tansaction\" and offfer completed\""
   ]
  },
  {
   "cell_type": "code",
   "execution_count": 33,
   "metadata": {},
   "outputs": [
    {
     "data": {
      "text/html": [
       "<div>\n",
       "<style scoped>\n",
       "    .dataframe tbody tr th:only-of-type {\n",
       "        vertical-align: middle;\n",
       "    }\n",
       "\n",
       "    .dataframe tbody tr th {\n",
       "        vertical-align: top;\n",
       "    }\n",
       "\n",
       "    .dataframe thead th {\n",
       "        text-align: right;\n",
       "    }\n",
       "</style>\n",
       "<table border=\"1\" class=\"dataframe\">\n",
       "  <thead>\n",
       "    <tr style=\"text-align: right;\">\n",
       "      <th></th>\n",
       "      <th>person</th>\n",
       "      <th>event</th>\n",
       "      <th>id</th>\n",
       "      <th>time</th>\n",
       "    </tr>\n",
       "  </thead>\n",
       "  <tbody>\n",
       "    <tr>\n",
       "      <th>55972</th>\n",
       "      <td>0009655768c64bdeb2e877511632db8f</td>\n",
       "      <td>offer received</td>\n",
       "      <td>5a8bc65990b245e5a138643cd4eb9837</td>\n",
       "      <td>168</td>\n",
       "    </tr>\n",
       "    <tr>\n",
       "      <th>77705</th>\n",
       "      <td>0009655768c64bdeb2e877511632db8f</td>\n",
       "      <td>offer viewed</td>\n",
       "      <td>5a8bc65990b245e5a138643cd4eb9837</td>\n",
       "      <td>192</td>\n",
       "    </tr>\n",
       "    <tr>\n",
       "      <th>89291</th>\n",
       "      <td>0009655768c64bdeb2e877511632db8f</td>\n",
       "      <td>transaction</td>\n",
       "      <td>5a8bc65990b245e5a138643cd4eb9837</td>\n",
       "      <td>228</td>\n",
       "    </tr>\n",
       "    <tr>\n",
       "      <th>113605</th>\n",
       "      <td>0009655768c64bdeb2e877511632db8f</td>\n",
       "      <td>offer received</td>\n",
       "      <td>3f207df678b143eea3cee63160fa8bed</td>\n",
       "      <td>336</td>\n",
       "    </tr>\n",
       "    <tr>\n",
       "      <th>139992</th>\n",
       "      <td>0009655768c64bdeb2e877511632db8f</td>\n",
       "      <td>offer viewed</td>\n",
       "      <td>3f207df678b143eea3cee63160fa8bed</td>\n",
       "      <td>372</td>\n",
       "    </tr>\n",
       "  </tbody>\n",
       "</table>\n",
       "</div>"
      ],
      "text/plain": [
       "                                  person           event  \\\n",
       "55972   0009655768c64bdeb2e877511632db8f  offer received   \n",
       "77705   0009655768c64bdeb2e877511632db8f    offer viewed   \n",
       "89291   0009655768c64bdeb2e877511632db8f     transaction   \n",
       "113605  0009655768c64bdeb2e877511632db8f  offer received   \n",
       "139992  0009655768c64bdeb2e877511632db8f    offer viewed   \n",
       "\n",
       "                                      id  time  \n",
       "55972   5a8bc65990b245e5a138643cd4eb9837   168  \n",
       "77705   5a8bc65990b245e5a138643cd4eb9837   192  \n",
       "89291   5a8bc65990b245e5a138643cd4eb9837   228  \n",
       "113605  3f207df678b143eea3cee63160fa8bed   336  \n",
       "139992  3f207df678b143eea3cee63160fa8bed   372  "
      ]
     },
     "execution_count": 33,
     "metadata": {},
     "output_type": "execute_result"
    }
   ],
   "source": [
    "transcript = transcript.sort_values(['person','time'])\n",
    "transcript = transcript.fillna(method='ffill')\n",
    "transcript.head()"
   ]
  },
  {
   "cell_type": "markdown",
   "metadata": {},
   "source": [
    "## Put all together"
   ]
  },
  {
   "cell_type": "code",
   "execution_count": 34,
   "metadata": {},
   "outputs": [
    {
     "name": "stderr",
     "output_type": "stream",
     "text": [
      "<ipython-input-34-b3af35e4f36a>:3: UserWarning: Boolean Series key will be reindexed to match DataFrame index.\n",
      "  print(len(df.loc[df['event']=='offer completed'][df['offer_type']=='bogo']))\n",
      "<ipython-input-34-b3af35e4f36a>:4: UserWarning: Boolean Series key will be reindexed to match DataFrame index.\n",
      "  print(len(df.loc[df['event']=='offer completed'][df['offer_type']=='infomational']))\n",
      "<ipython-input-34-b3af35e4f36a>:5: UserWarning: Boolean Series key will be reindexed to match DataFrame index.\n",
      "  print(len(df.loc[df['event']=='offer completed'][df['offer_type']=='discount']))\n"
     ]
    },
    {
     "name": "stdout",
     "output_type": "stream",
     "text": [
      "16180\n",
      "0\n",
      "16367\n"
     ]
    },
    {
     "data": {
      "text/html": [
       "<div>\n",
       "<style scoped>\n",
       "    .dataframe tbody tr th:only-of-type {\n",
       "        vertical-align: middle;\n",
       "    }\n",
       "\n",
       "    .dataframe tbody tr th {\n",
       "        vertical-align: top;\n",
       "    }\n",
       "\n",
       "    .dataframe thead th {\n",
       "        text-align: right;\n",
       "    }\n",
       "</style>\n",
       "<table border=\"1\" class=\"dataframe\">\n",
       "  <thead>\n",
       "    <tr style=\"text-align: right;\">\n",
       "      <th></th>\n",
       "      <th>reward</th>\n",
       "      <th>difficulty</th>\n",
       "      <th>duration</th>\n",
       "      <th>offer_type</th>\n",
       "      <th>id</th>\n",
       "      <th>num_channels</th>\n",
       "      <th>web</th>\n",
       "      <th>email</th>\n",
       "      <th>mobile</th>\n",
       "      <th>social</th>\n",
       "      <th>person</th>\n",
       "      <th>event</th>\n",
       "      <th>time</th>\n",
       "      <th>event_count</th>\n",
       "    </tr>\n",
       "  </thead>\n",
       "  <tbody>\n",
       "    <tr>\n",
       "      <th>0</th>\n",
       "      <td>10</td>\n",
       "      <td>10</td>\n",
       "      <td>7</td>\n",
       "      <td>bogo</td>\n",
       "      <td>ae264e3637204a6fb9bb56bc8210ddfd</td>\n",
       "      <td>3</td>\n",
       "      <td>0</td>\n",
       "      <td>1</td>\n",
       "      <td>1</td>\n",
       "      <td>1</td>\n",
       "      <td>004c5799adbf42868b9cff0396190900</td>\n",
       "      <td>offer completed</td>\n",
       "      <td>336</td>\n",
       "      <td>0</td>\n",
       "    </tr>\n",
       "    <tr>\n",
       "      <th>1</th>\n",
       "      <td>10</td>\n",
       "      <td>10</td>\n",
       "      <td>7</td>\n",
       "      <td>bogo</td>\n",
       "      <td>ae264e3637204a6fb9bb56bc8210ddfd</td>\n",
       "      <td>3</td>\n",
       "      <td>0</td>\n",
       "      <td>1</td>\n",
       "      <td>1</td>\n",
       "      <td>1</td>\n",
       "      <td>005500a7188546ff8a767329a2f7c76a</td>\n",
       "      <td>offer viewed</td>\n",
       "      <td>60</td>\n",
       "      <td>1</td>\n",
       "    </tr>\n",
       "    <tr>\n",
       "      <th>2</th>\n",
       "      <td>10</td>\n",
       "      <td>10</td>\n",
       "      <td>7</td>\n",
       "      <td>bogo</td>\n",
       "      <td>ae264e3637204a6fb9bb56bc8210ddfd</td>\n",
       "      <td>3</td>\n",
       "      <td>0</td>\n",
       "      <td>1</td>\n",
       "      <td>1</td>\n",
       "      <td>1</td>\n",
       "      <td>005500a7188546ff8a767329a2f7c76a</td>\n",
       "      <td>offer completed</td>\n",
       "      <td>582</td>\n",
       "      <td>1</td>\n",
       "    </tr>\n",
       "    <tr>\n",
       "      <th>3</th>\n",
       "      <td>10</td>\n",
       "      <td>10</td>\n",
       "      <td>7</td>\n",
       "      <td>bogo</td>\n",
       "      <td>ae264e3637204a6fb9bb56bc8210ddfd</td>\n",
       "      <td>3</td>\n",
       "      <td>0</td>\n",
       "      <td>1</td>\n",
       "      <td>1</td>\n",
       "      <td>1</td>\n",
       "      <td>0063def0f9c14bc4805322a488839b32</td>\n",
       "      <td>offer viewed</td>\n",
       "      <td>186</td>\n",
       "      <td>0</td>\n",
       "    </tr>\n",
       "    <tr>\n",
       "      <th>4</th>\n",
       "      <td>10</td>\n",
       "      <td>10</td>\n",
       "      <td>7</td>\n",
       "      <td>bogo</td>\n",
       "      <td>ae264e3637204a6fb9bb56bc8210ddfd</td>\n",
       "      <td>3</td>\n",
       "      <td>0</td>\n",
       "      <td>1</td>\n",
       "      <td>1</td>\n",
       "      <td>1</td>\n",
       "      <td>00715b6e55c3431cb56ff7307eb19675</td>\n",
       "      <td>offer completed</td>\n",
       "      <td>12</td>\n",
       "      <td>1</td>\n",
       "    </tr>\n",
       "  </tbody>\n",
       "</table>\n",
       "</div>"
      ],
      "text/plain": [
       "   reward  difficulty  duration offer_type                                id  \\\n",
       "0      10          10         7       bogo  ae264e3637204a6fb9bb56bc8210ddfd   \n",
       "1      10          10         7       bogo  ae264e3637204a6fb9bb56bc8210ddfd   \n",
       "2      10          10         7       bogo  ae264e3637204a6fb9bb56bc8210ddfd   \n",
       "3      10          10         7       bogo  ae264e3637204a6fb9bb56bc8210ddfd   \n",
       "4      10          10         7       bogo  ae264e3637204a6fb9bb56bc8210ddfd   \n",
       "\n",
       "   num_channels  web  email  mobile  social                            person  \\\n",
       "0             3    0      1       1       1  004c5799adbf42868b9cff0396190900   \n",
       "1             3    0      1       1       1  005500a7188546ff8a767329a2f7c76a   \n",
       "2             3    0      1       1       1  005500a7188546ff8a767329a2f7c76a   \n",
       "3             3    0      1       1       1  0063def0f9c14bc4805322a488839b32   \n",
       "4             3    0      1       1       1  00715b6e55c3431cb56ff7307eb19675   \n",
       "\n",
       "             event  time  event_count  \n",
       "0  offer completed   336            0  \n",
       "1     offer viewed    60            1  \n",
       "2  offer completed   582            1  \n",
       "3     offer viewed   186            0  \n",
       "4  offer completed    12            1  "
      ]
     },
     "execution_count": 34,
     "metadata": {},
     "output_type": "execute_result"
    }
   ],
   "source": [
    "##To check that only bogo and discount events have offer completed.\n",
    "df=pd.merge(portfolio, transcript, on = \"id\", how=\"left\")\n",
    "print(len(df.loc[df['event']=='offer completed'][df['offer_type']=='bogo']))\n",
    "print(len(df.loc[df['event']=='offer completed'][df['offer_type']=='infomational']))\n",
    "print(len(df.loc[df['event']=='offer completed'][df['offer_type']=='discount']))\n",
    "##Bogo and discount offer and offer viewed and completed events are filtered out\n",
    "df=df.loc[df['offer_type'].isin(['bogo', 'discount'])&df['event'].isin([\"offer viewed\", \"offer completed\"])]\n",
    "df=df.drop_duplicates(subset=[\"id\", \"person\", \"event\"])\n",
    "df_count = df[[\"id\", \"person\", \"event\"]].groupby([\"id\", \"person\"]).count().rename(columns= {'event': 'event_count'}).reset_index()\n",
    "df=pd.merge(df, df_count, on=[\"id\", 'person'], how='left')\n",
    "## 1 is for events that were viewed before\n",
    "df['event_count']=df[\"event_count\"].replace(1,0)\n",
    "df['event_count']=df[\"event_count\"].replace(2,1)\n",
    "df.head()"
   ]
  },
  {
   "cell_type": "markdown",
   "metadata": {},
   "source": [
    "Bogo and discount offers have event order completed. I will predict for these types if order is completed."
   ]
  },
  {
   "cell_type": "code",
   "execution_count": 35,
   "metadata": {
    "scrolled": true
   },
   "outputs": [
    {
     "name": "stdout",
     "output_type": "stream",
     "text": [
      "[10  5  3  2]\n",
      "[ 7  5 10]\n"
     ]
    },
    {
     "data": {
      "text/html": [
       "<div>\n",
       "<style scoped>\n",
       "    .dataframe tbody tr th:only-of-type {\n",
       "        vertical-align: middle;\n",
       "    }\n",
       "\n",
       "    .dataframe tbody tr th {\n",
       "        vertical-align: top;\n",
       "    }\n",
       "\n",
       "    .dataframe thead th {\n",
       "        text-align: right;\n",
       "    }\n",
       "</style>\n",
       "<table border=\"1\" class=\"dataframe\">\n",
       "  <thead>\n",
       "    <tr style=\"text-align: right;\">\n",
       "      <th></th>\n",
       "      <th>reward</th>\n",
       "      <th>difficulty</th>\n",
       "      <th>duration</th>\n",
       "      <th>offer_type</th>\n",
       "      <th>id</th>\n",
       "      <th>num_channels</th>\n",
       "      <th>web</th>\n",
       "      <th>email</th>\n",
       "      <th>mobile</th>\n",
       "      <th>social</th>\n",
       "      <th>person</th>\n",
       "      <th>time</th>\n",
       "      <th>event_count</th>\n",
       "      <th>gender</th>\n",
       "      <th>age</th>\n",
       "      <th>income</th>\n",
       "      <th>membership_len</th>\n",
       "    </tr>\n",
       "  </thead>\n",
       "  <tbody>\n",
       "    <tr>\n",
       "      <th>0</th>\n",
       "      <td>10</td>\n",
       "      <td>10</td>\n",
       "      <td>7</td>\n",
       "      <td>bogo</td>\n",
       "      <td>ae264e3637204a6fb9bb56bc8210ddfd</td>\n",
       "      <td>3</td>\n",
       "      <td>0</td>\n",
       "      <td>1</td>\n",
       "      <td>1</td>\n",
       "      <td>1</td>\n",
       "      <td>005500a7188546ff8a767329a2f7c76a</td>\n",
       "      <td>60</td>\n",
       "      <td>1</td>\n",
       "      <td>M</td>\n",
       "      <td>56</td>\n",
       "      <td>47000.000000</td>\n",
       "      <td>734.0</td>\n",
       "    </tr>\n",
       "    <tr>\n",
       "      <th>1</th>\n",
       "      <td>10</td>\n",
       "      <td>10</td>\n",
       "      <td>7</td>\n",
       "      <td>bogo</td>\n",
       "      <td>ae264e3637204a6fb9bb56bc8210ddfd</td>\n",
       "      <td>3</td>\n",
       "      <td>0</td>\n",
       "      <td>1</td>\n",
       "      <td>1</td>\n",
       "      <td>1</td>\n",
       "      <td>005500a7188546ff8a767329a2f7c76a</td>\n",
       "      <td>582</td>\n",
       "      <td>1</td>\n",
       "      <td>M</td>\n",
       "      <td>56</td>\n",
       "      <td>47000.000000</td>\n",
       "      <td>734.0</td>\n",
       "    </tr>\n",
       "    <tr>\n",
       "      <th>2</th>\n",
       "      <td>10</td>\n",
       "      <td>10</td>\n",
       "      <td>7</td>\n",
       "      <td>bogo</td>\n",
       "      <td>ae264e3637204a6fb9bb56bc8210ddfd</td>\n",
       "      <td>3</td>\n",
       "      <td>0</td>\n",
       "      <td>1</td>\n",
       "      <td>1</td>\n",
       "      <td>1</td>\n",
       "      <td>0063def0f9c14bc4805322a488839b32</td>\n",
       "      <td>186</td>\n",
       "      <td>0</td>\n",
       "      <td>O</td>\n",
       "      <td>118</td>\n",
       "      <td>65404.991568</td>\n",
       "      <td>195.0</td>\n",
       "    </tr>\n",
       "    <tr>\n",
       "      <th>3</th>\n",
       "      <td>10</td>\n",
       "      <td>10</td>\n",
       "      <td>7</td>\n",
       "      <td>bogo</td>\n",
       "      <td>ae264e3637204a6fb9bb56bc8210ddfd</td>\n",
       "      <td>3</td>\n",
       "      <td>0</td>\n",
       "      <td>1</td>\n",
       "      <td>1</td>\n",
       "      <td>1</td>\n",
       "      <td>00715b6e55c3431cb56ff7307eb19675</td>\n",
       "      <td>12</td>\n",
       "      <td>1</td>\n",
       "      <td>F</td>\n",
       "      <td>58</td>\n",
       "      <td>119000.000000</td>\n",
       "      <td>732.0</td>\n",
       "    </tr>\n",
       "    <tr>\n",
       "      <th>4</th>\n",
       "      <td>10</td>\n",
       "      <td>10</td>\n",
       "      <td>7</td>\n",
       "      <td>bogo</td>\n",
       "      <td>ae264e3637204a6fb9bb56bc8210ddfd</td>\n",
       "      <td>3</td>\n",
       "      <td>0</td>\n",
       "      <td>1</td>\n",
       "      <td>1</td>\n",
       "      <td>1</td>\n",
       "      <td>00715b6e55c3431cb56ff7307eb19675</td>\n",
       "      <td>36</td>\n",
       "      <td>1</td>\n",
       "      <td>F</td>\n",
       "      <td>58</td>\n",
       "      <td>119000.000000</td>\n",
       "      <td>732.0</td>\n",
       "    </tr>\n",
       "  </tbody>\n",
       "</table>\n",
       "</div>"
      ],
      "text/plain": [
       "   reward  difficulty  duration offer_type                                id  \\\n",
       "0      10          10         7       bogo  ae264e3637204a6fb9bb56bc8210ddfd   \n",
       "1      10          10         7       bogo  ae264e3637204a6fb9bb56bc8210ddfd   \n",
       "2      10          10         7       bogo  ae264e3637204a6fb9bb56bc8210ddfd   \n",
       "3      10          10         7       bogo  ae264e3637204a6fb9bb56bc8210ddfd   \n",
       "4      10          10         7       bogo  ae264e3637204a6fb9bb56bc8210ddfd   \n",
       "\n",
       "   num_channels  web  email  mobile  social                            person  \\\n",
       "0             3    0      1       1       1  005500a7188546ff8a767329a2f7c76a   \n",
       "1             3    0      1       1       1  005500a7188546ff8a767329a2f7c76a   \n",
       "2             3    0      1       1       1  0063def0f9c14bc4805322a488839b32   \n",
       "3             3    0      1       1       1  00715b6e55c3431cb56ff7307eb19675   \n",
       "4             3    0      1       1       1  00715b6e55c3431cb56ff7307eb19675   \n",
       "\n",
       "   time  event_count gender  age         income  membership_len  \n",
       "0    60            1      M   56   47000.000000           734.0  \n",
       "1   582            1      M   56   47000.000000           734.0  \n",
       "2   186            0      O  118   65404.991568           195.0  \n",
       "3    12            1      F   58  119000.000000           732.0  \n",
       "4    36            1      F   58  119000.000000           732.0  "
      ]
     },
     "execution_count": 35,
     "metadata": {},
     "output_type": "execute_result"
    }
   ],
   "source": [
    "#exclude events where offer is completed by chance\n",
    "df=df.loc[~((df['event']==\"offer completed\")&(df['event_count']==0))]\n",
    "df=pd.merge(df, profile, on=\"person\", how=\"left\")\n",
    "print(df.reward.unique())\n",
    "print(df.duration.unique())\n",
    "df=df.drop(['event'], axis=1)\n",
    "#convert became_member_on into days\n",
    "df['year']=df['became_member_on'].apply(lambda x: int(str(x)[:4]))\n",
    "df['month']=df['became_member_on'].apply(lambda x: int(str(x)[4:6]) if str(x)[4]=='1' else int(str(x)[-3:-2]))\n",
    "df['day']=df['became_member_on'].apply(lambda x: int(str(x)[-2:]))\n",
    "df = df.drop('became_member_on', axis=1, inplace=False)\n",
    "df.loc[df['year'] == 2018, 'membership_len'] = (30*df['month'].astype('float'))+df['day']\n",
    "df.loc[df['year'] != 2018, 'membership_len'] = ((2018-df['year'].astype('int'))*365)+(30*df['month'].astype('float'))+df['day']\n",
    "df = df.drop(['year','month','day'], axis=1, inplace=False)\n",
    "df.head()"
   ]
  },
  {
   "cell_type": "markdown",
   "metadata": {},
   "source": [
    "We assign 1 if offer were completed and 0 if it is not. "
   ]
  },
  {
   "cell_type": "code",
   "execution_count": 36,
   "metadata": {},
   "outputs": [
    {
     "data": {
      "text/plain": [
       "(array([17462.,     0.,     0.,     0.,     0.,     0.,     0.,     0.,\n",
       "            0., 22364.]),\n",
       " array([0. , 0.1, 0.2, 0.3, 0.4, 0.5, 0.6, 0.7, 0.8, 0.9, 1. ]),\n",
       " <a list of 10 Patch objects>)"
      ]
     },
     "execution_count": 36,
     "metadata": {},
     "output_type": "execute_result"
    },
    {
     "data": {
      "image/png": "[encoded data removed]",
      "text/plain": [
       "<Figure size 432x288 with 1 Axes>"
      ]
     },
     "metadata": {
      "needs_background": "light"
     },
     "output_type": "display_data"
    }
   ],
   "source": [
    "df=df.drop_duplicates(subset =['id', 'person', 'event_count'], keep='first')\n",
    "plt.hist(df['event_count'])"
   ]
  },
  {
   "cell_type": "markdown",
   "metadata": {},
   "source": [
    "The outcome is slightly imbalanced. More viewed offers are completed than not completed. "
   ]
  },
  {
   "cell_type": "markdown",
   "metadata": {},
   "source": [
    "## Model"
   ]
  },
  {
   "cell_type": "code",
   "execution_count": 37,
   "metadata": {},
   "outputs": [
    {
     "name": "stdout",
     "output_type": "stream",
     "text": [
      "['reward', 'difficulty', 'offer_type', 'num_channels', 'web', 'email', 'mobile', 'social', 'gender']\n"
     ]
    }
   ],
   "source": [
    "# numeric columns\n",
    "num_col=[\"age\", 'income', \"membership_len\"]\n",
    "#categorical columns\n",
    "cat_col = [i for i in df.columns if i not in num_col+['id', 'person', 'time', 'channels', 'event_count', 'duration']]\n",
    "print(cat_col)"
   ]
  },
  {
   "cell_type": "markdown",
   "metadata": {},
   "source": [
    "### RandomForestClassifier"
   ]
  },
  {
   "cell_type": "code",
   "execution_count": 38,
   "metadata": {
    "scrolled": true
   },
   "outputs": [
    {
     "name": "stdout",
     "output_type": "stream",
     "text": [
      "['reward', 'difficulty', 'offer_type', 'num_channels', 'web', 'email', 'mobile', 'social', 'gender']\n",
      "auc test score\n",
      "0.7635393731282578\n",
      "Plot feature importances…\n"
     ]
    },
    {
     "data": {
      "image/png": "[encoded data removed]",
      "text/plain": [
       "<Figure size 720x360 with 1 Axes>"
      ]
     },
     "metadata": {
      "needs_background": "light"
     },
     "output_type": "display_data"
    },
    {
     "name": "stdout",
     "output_type": "stream",
     "text": [
      "cross_validation\n",
      "0.7705169956736239\n"
     ]
    }
   ],
   "source": [
    "df=df.dropna()\n",
    "#incoding of categorical columns\n",
    "le  = LabelEncoder()\n",
    "for i in cat_col:\n",
    "    df[i]=le.fit_transform(df[i].astype('category'))\n",
    "print(cat_col)\n",
    "X=df[num_col+cat_col]\n",
    "Y=df['event_count']\n",
    "model = RandomForestClassifier(max_depth = 3, class_weight=\"balanced\")\n",
    "score_test, score_validation=modeling(model, X, Y)"
   ]
  },
  {
   "cell_type": "markdown",
   "metadata": {},
   "source": [
    "Most contributed feature is age. AUC score is 0.76."
   ]
  },
  {
   "cell_type": "markdown",
   "metadata": {},
   "source": [
    "### Model improvements, Light Gradient Boosting\n",
    "\n",
    "Light gradient boosting has better result on cross validation, auc score is 0.8 and on test set auc score is also 0.8"
   ]
  },
  {
   "cell_type": "code",
   "execution_count": 39,
   "metadata": {},
   "outputs": [],
   "source": [
    "model = lgb.LGBMClassifier(boosting_type ='gbdt', learning_rate = 0.1, num_leaves=31, max_depth = 3)"
   ]
  },
  {
   "cell_type": "code",
   "execution_count": 40,
   "metadata": {},
   "outputs": [
    {
     "name": "stdout",
     "output_type": "stream",
     "text": [
      "auc test score\n",
      "0.805263698123804\n",
      "Plot feature importances…\n"
     ]
    },
    {
     "data": {
      "image/png": "[encoded data removed]",
      "text/plain": [
       "<Figure size 720x360 with 1 Axes>"
      ]
     },
     "metadata": {
      "needs_background": "light"
     },
     "output_type": "display_data"
    },
    {
     "name": "stdout",
     "output_type": "stream",
     "text": [
      "cross_validation\n",
      "0.8022198178492611\n"
     ]
    }
   ],
   "source": [
    "score_test, score_validation=modeling(model, X, Y)"
   ]
  },
  {
   "cell_type": "markdown",
   "metadata": {},
   "source": [
    "## Conclusion"
   ]
  },
  {
   "cell_type": "markdown",
   "metadata": {},
   "source": [
    "Predictors as customer membership length, age, income, gender, offer difficulty and reward allow to determine if customer complete offer with AUC score 0.77 for RandomForestClassifier and 0.8 for Light Gradient Boosting. "
   ]
  }
 ],
 "metadata": {
  "kernelspec": {
   "display_name": "Python 3",
   "language": "python",
   "name": "python3"
  },
  "language_info": {
   "codemirror_mode": {
    "name": "ipython",
    "version": 3
   },
   "file_extension": ".py",
   "mimetype": "text/x-python",
   "name": "python",
   "nbconvert_exporter": "python",
   "pygments_lexer": "ipython3",
   "version": "3.8.3"
  }
 },
 "nbformat": 4,
 "nbformat_minor": 2
}
